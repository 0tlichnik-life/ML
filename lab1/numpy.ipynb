{
 "cells": [
  {
   "cell_type": "markdown",
   "metadata": {
    "id": "vC84e9kzyxPy"
   },
   "source": [
    "<h1>Импорт библиотек"
   ]
  },
  {
   "cell_type": "code",
   "execution_count": 3,
   "metadata": {
    "id": "cgKeNegmQG5S"
   },
   "outputs": [],
   "source": [
    "import numpy as np\n",
    "import matplotlib.pyplot as plt"
   ]
  },
  {
   "cell_type": "markdown",
   "metadata": {
    "id": "qFM9uVU2x4Ls"
   },
   "source": [
    "<h1>Задача 1. Дан набор из $p$ матриц размерностью $(n, n)$ и $p$ векторов размерностью $(n, 1)$, найти сумму произведений матриц на векторы. Написать тесты для кода"
   ]
  },
  {
   "cell_type": "code",
   "execution_count": 1,
   "metadata": {
    "id": "IAbUvEiYyWFF"
   },
   "outputs": [
    {
     "name": "stdout",
     "output_type": "stream",
     "text": [
      "Сумма произведений матриц на векторы: [[14]\n",
      " [22]]\n",
      "Сумма произведений матриц на векторы для второго набора данных: [[6]\n",
      " [6]]\n"
     ]
    }
   ],
   "source": [
    "import numpy as np\n",
    "\n",
    "def sum_prod(X, V):\n",
    "    '''\n",
    "    X - матрицы (n, n)\n",
    "    V - векторы (n, 1)\n",
    "    Гарантируется, что len(X) == len(V)\n",
    "    '''\n",
    "    # Проверим, что X и V имеют одинаковую длину\n",
    "    if len(X) != len(V):\n",
    "        raise ValueError(\"Количество матриц и векторов должно быть одинаковым.\")\n",
    "    \n",
    "    # Инициализируем переменную для суммы\n",
    "    total_sum = 0\n",
    "    \n",
    "    # Пройдемся по всем матрицам и векторами и вычислим их произведение\n",
    "    for i in range(len(X)):\n",
    "        total_sum += np.dot(X[i], V[i])  # Произведение матрицы и вектора\n",
    "    \n",
    "    return total_sum\n",
    "\n",
    "# Тесты\n",
    "X = [np.array([[1, 2], [3, 4]]), np.array([[5, 6], [7, 8]])]\n",
    "V = [np.array([[1], [1]]), np.array([[1], [1]])]\n",
    "\n",
    "result = sum_prod(X, V)\n",
    "print(\"Сумма произведений матриц на векторы:\", result)\n",
    "\n",
    "# Проверка на другие данные\n",
    "X2 = [np.array([[2, 3], [1, 4]]), np.array([[0, 1], [1, 0]])]\n",
    "V2 = [np.array([[1], [1]]), np.array([[1], [1]])]\n",
    "\n",
    "result2 = sum_prod(X2, V2)\n",
    "print(\"Сумма произведений матриц на векторы для второго набора данных:\", result2)"
   ]
  },
  {
   "cell_type": "markdown",
   "metadata": {
    "id": "TKwPG4fIy2w4"
   },
   "source": [
    "<h1>Задача 2. Дана матрица M, напишите функцию, которая бинаризует матрицу по некоторому threshold (то есть, все значения большие threshold становятся равными 1, иначе 0). Напишите тесты для кода"
   ]
  },
  {
   "cell_type": "code",
   "execution_count": 2,
   "metadata": {
    "id": "KQDNMgsjRNH7"
   },
   "outputs": [
    {
     "name": "stdout",
     "output_type": "stream",
     "text": [
      "Все тесты успешно пройдены!\n"
     ]
    }
   ],
   "source": [
    "import numpy as np\n",
    "\n",
    "def binarize(M, threshold=0.5):\n",
    "    '''\n",
    "    Функция бинаризует матрицу M по заданному порогу threshold.\n",
    "    Все элементы матрицы, которые больше порога, становятся равными 1, \n",
    "    все остальные — равными 0.\n",
    "    \n",
    "    M - матрица (numpy array)\n",
    "    threshold - порог (по умолчанию 0.5)\n",
    "    '''\n",
    "    return (M > threshold).astype(int)  # Возвращаем матрицу, где True становится 1, а False — 0\n",
    "\n",
    "# Тесты\n",
    "# Пример матрицы\n",
    "M = np.array([[0.2, 0.8, 0.6],\n",
    "              [0.4, 0.1, 0.9],\n",
    "              [0.7, 0.3, 0.5]])\n",
    "\n",
    "# Бинаризация с порогом 0.5\n",
    "binary_M = binarize(M, threshold=0.5)\n",
    "\n",
    "# Ожидаемый результат:\n",
    "# Все значения > 0.5 становятся 1, остальные — 0\n",
    "expected_result = np.array([[0, 1, 1],\n",
    "                            [0, 0, 1],\n",
    "                            [1, 0, 0]])\n",
    "\n",
    "# Проверка\n",
    "assert np.array_equal(binary_M, expected_result)\n",
    "\n",
    "# Тест с другим порогом\n",
    "binary_M2 = binarize(M, threshold=0.3)\n",
    "expected_result2 = np.array([[0, 1, 1],\n",
    "                             [1, 0, 1],\n",
    "                             [1, 0, 1]])\n",
    "\n",
    "assert np.array_equal(binary_M2, expected_result2)\n",
    "\n",
    "print(\"Все тесты успешно пройдены!\")"
   ]
  },
  {
   "cell_type": "markdown",
   "metadata": {
    "id": "IY5L-h-7zWhN"
   },
   "source": [
    "<h1>Задача 3. Напишите функцию, которая возвращает уникальные элементы из каждой строки матрицы. Напишите такую же функцию, но для столбцов. Напишите тесты для кода"
   ]
  },
  {
   "cell_type": "markdown",
   "metadata": {
    "id": "roYAlo4Jz-lH"
   },
   "source": [
    "<h1>Задача 4. Напишите функцию, которая заполняет матрицу с размерами $(m, n)$ случайными числами, распределенными по нормальному закону. Затем считает мат. ожидание и дисперсию для каждого из столбцов и строк, а также строит для каждой строки и столбца гистограмму значений (использовать функцию hist из модуля matplotlib.plot)"
   ]
  },
  {
   "cell_type": "code",
   "execution_count": 2,
   "metadata": {
    "id": "nZK_71hMSQzv"
   },
   "outputs": [
    {
     "name": "stdout",
     "output_type": "stream",
     "text": [
      "Математическое ожидание по строкам: [ 0.36297076  0.19520468 -0.54608875 -0.4215683  -0.2807916 ]\n",
      "Дисперсия по строкам: [2.15970855 0.09465992 0.8788623  0.06823473 2.71633366]\n",
      "Математическое ожидание по столбцам: [ 0.14093302  0.32940288 -0.66939192 -0.35316256]\n",
      "Дисперсия по столбцам: [2.42002921 1.27637945 0.41900779 0.49734864]\n"
     ]
    },
    {
     "data": {
      "image/png": "[encoded data removed]",
      "text/plain": [
       "<Figure size 640x480 with 1 Axes>"
      ]
     },
     "metadata": {},
     "output_type": "display_data"
    },
    {
     "data": {
      "image/png": "[encoded data removed]",
      "text/plain": [
       "<Figure size 640x480 with 1 Axes>"
      ]
     },
     "metadata": {},
     "output_type": "display_data"
    }
   ],
   "source": [
    "import numpy as np\n",
    "import matplotlib.pyplot as plt\n",
    "\n",
    "def generate_matrix(m, n, mean=0, std=1):\n",
    "    \"\"\"\n",
    "    Функция генерирует матрицу размером m x n, заполненную случайными числами,\n",
    "    распределенными по нормальному закону с заданным математическим ожиданием\n",
    "    и стандартным отклонением.\n",
    "    \"\"\"\n",
    "    return np.random.normal(mean, std, (m, n))\n",
    "\n",
    "def calculate_statistics(matrix):\n",
    "    \"\"\"\n",
    "    Функция вычисляет математическое ожидание и дисперсию для строк и столбцов матрицы.\n",
    "    Возвращает кортеж из:\n",
    "    - математическое ожидание по строкам\n",
    "    - дисперсия по строкам\n",
    "    - математическое ожидание по столбцам\n",
    "    - дисперсия по столбцам\n",
    "    \"\"\"\n",
    "    row_means = np.mean(matrix, axis=1)\n",
    "    row_variances = np.var(matrix, axis=1)\n",
    "    col_means = np.mean(matrix, axis=0)\n",
    "    col_variances = np.var(matrix, axis=0)\n",
    "    \n",
    "    return row_means, row_variances, col_means, col_variances\n",
    "\n",
    "def plot_histograms(matrix):\n",
    "    \"\"\"\n",
    "    Функция строит гистограммы для значений в строках и столбцах матрицы.\n",
    "    \"\"\"\n",
    "    # Строим гистограмму для каждой строки\n",
    "    for i, row in enumerate(matrix):\n",
    "        plt.hist(row, bins=10, alpha=0.5, label=f\"Row {i + 1}\")\n",
    "    \n",
    "    plt.title(\"Гистограммы строк матрицы\")\n",
    "    plt.legend(loc='upper right')\n",
    "    plt.show()\n",
    "    \n",
    "    # Строим гистограмму для каждого столбца\n",
    "    for i in range(matrix.shape[1]):\n",
    "        plt.hist(matrix[:, i], bins=10, alpha=0.5, label=f\"Column {i + 1}\")\n",
    "    \n",
    "    plt.title(\"Гистограммы столбцов матрицы\")\n",
    "    plt.legend(loc='upper right')\n",
    "    plt.show()\n",
    "\n",
    "# Пример использования\n",
    "m, n = 5, 4  # размер матрицы 5x4\n",
    "matrix = generate_matrix(m, n)\n",
    "\n",
    "# Вычисление статистик\n",
    "row_means, row_variances, col_means, col_variances = calculate_statistics(matrix)\n",
    "\n",
    "# Выводим результаты\n",
    "print(\"Математическое ожидание по строкам:\", row_means)\n",
    "print(\"Дисперсия по строкам:\", row_variances)\n",
    "print(\"Математическое ожидание по столбцам:\", col_means)\n",
    "print(\"Дисперсия по столбцам:\", col_variances)\n",
    "\n",
    "# Строим гистограммы\n",
    "plot_histograms(matrix)\n"
   ]
  },
  {
   "cell_type": "markdown",
   "metadata": {
    "id": "BDyATNdM0dJ2"
   },
   "source": [
    "<h1>Задача 5. Напишите функцию, которая заполняет матрицу $(m, n)$ в шахматном порядке заданными числами $a$ и $b$. Напишите тесты для кода"
   ]
  },
  {
   "cell_type": "code",
   "execution_count": 3,
   "metadata": {
    "id": "RWNJYWQGecS6"
   },
   "outputs": [
    {
     "name": "stdout",
     "output_type": "stream",
     "text": [
      "[1, 0, 1]\n",
      "[0, 1, 0]\n",
      "[1, 0, 1]\n",
      "[5, 10, 5, 10]\n",
      "[10, 5, 10, 5]\n",
      "[5, 10, 5, 10]\n",
      "[10, 5, 10, 5]\n",
      "[7, 3, 7, 3, 7]\n",
      "[3, 7, 3, 7, 3]\n"
     ]
    }
   ],
   "source": [
    "def chess(m, n, a, b):\n",
    "    \"\"\"\n",
    "    Функция создает матрицу размером m x n, заполняя ее числами a и b в шахматном порядке.\n",
    "    \n",
    "    :param m: количество строк в матрице\n",
    "    :param n: количество столбцов в матрице\n",
    "    :param a: число, которое будет находиться в черных клетках\n",
    "    :param b: число, которое будет находиться в белых клетках\n",
    "    :return: матрица размером m x n, заполненная числами a и b\n",
    "    \"\"\"\n",
    "    # Создаем пустую матрицу m x n\n",
    "    matrix = [[0 for _ in range(n)] for _ in range(m)]\n",
    "    \n",
    "    # Заполняем матрицу числами a и b в шахматном порядке\n",
    "    for i in range(m):\n",
    "        for j in range(n):\n",
    "            if (i + j) % 2 == 0:\n",
    "                matrix[i][j] = a\n",
    "            else:\n",
    "                matrix[i][j] = b\n",
    "    \n",
    "    return matrix\n",
    "\n",
    "# Тест 1: матрица 3x3, a = 1, b = 0\n",
    "matrix1 = chess(3, 3, 1, 0)\n",
    "for row in matrix1:\n",
    "    print(row)\n",
    "# Ожидаемый вывод:\n",
    "# [1, 0, 1]\n",
    "# [0, 1, 0]\n",
    "# [1, 0, 1]\n",
    "\n",
    "# Тест 2: матрица 4x4, a = 5, b = 10\n",
    "matrix2 = chess(4, 4, 5, 10)\n",
    "for row in matrix2:\n",
    "    print(row)\n",
    "# Ожидаемый вывод:\n",
    "# [5, 10, 5, 10]\n",
    "# [10, 5, 10, 5]\n",
    "# [5, 10, 5, 10]\n",
    "# [10, 5, 10, 5]\n",
    "\n",
    "# Тест 3: матрица 2x5, a = 7, b = 3\n",
    "matrix3 = chess(2, 5, 7, 3)\n",
    "for row in matrix3:\n",
    "    print(row)\n",
    "# Ожидаемый вывод:\n",
    "# [7, 3, 7, 3, 7]\n",
    "# [3, 7, 3, 7, 3]"
   ]
  },
  {
   "cell_type": "markdown",
   "metadata": {
    "id": "-ymXLtTN0vB6"
   },
   "source": [
    "<h1>Задача 6. Напишите функцию, которая отрисовывает прямоугольник с заданными размерами (a, b) на изображении размера (m, n), цвет фона задайте в схеме RGB, как и цвет прямоугольника. Цвета также должны быть параметрами функции. Напишите аналогичную функцию но для овала с полуосями a и b. Напишите тесты для кода.\n",
    "Примечание: уравнение эллипса (границы овала) можно записать как:\n",
    "<h1>$\\frac{(x-x_0)^2}{a^2}+\\frac{(y-y_0)^2}{b^2}=1$"
   ]
  },
  {
   "cell_type": "code",
   "execution_count": 10,
   "metadata": {
    "id": "sNfl1t_kfOF4"
   },
   "outputs": [
    {
     "data": {
      "image/png": "[encoded data removed]",
      "text/plain": [
       "<Figure size 640x480 with 1 Axes>"
      ]
     },
     "metadata": {},
     "output_type": "display_data"
    },
    {
     "data": {
      "image/png": "[encoded data removed]",
      "text/plain": [
       "<Figure size 640x480 with 1 Axes>"
      ]
     },
     "metadata": {},
     "output_type": "display_data"
    }
   ],
   "source": [
    "import numpy as np\n",
    "import matplotlib.pyplot as plt\n",
    "\n",
    "def draw_rectangle(a, b, m, n, rectangle_color, background_color):\n",
    "    \"\"\"\n",
    "    Функция рисует прямоугольник на изображении заданных размеров.\n",
    "    :param a: ширина прямоугольника\n",
    "    :param b: высота прямоугольника\n",
    "    :param m: ширина изображения\n",
    "    :param n: высота изображения\n",
    "    :param rectangle_color: цвет прямоугольника в RGB\n",
    "    :param background_color: цвет фона в RGB\n",
    "    \"\"\"\n",
    "    # Создаем изображение с фоном\n",
    "    img = np.ones((m, n, 3), dtype=np.uint8) * np.array(background_color, dtype=np.uint8)\n",
    "\n",
    "    # Рисуем прямоугольник\n",
    "    img[(m - a) // 2: (m + a) // 2, (n - b) // 2: (n + b) // 2] = np.array(rectangle_color, dtype=np.uint8)\n",
    "\n",
    "    return img\n",
    "\n",
    "def draw_ellipse(a, b, m, n, ellipse_color, background_color):\n",
    "    \"\"\"\n",
    "    Функция рисует эллипс на изображении заданных размеров.\n",
    "    :param a: полуширина эллипса\n",
    "    :param b: полувысота эллипса\n",
    "    :param m: ширина изображения\n",
    "    :param n: высота изображения\n",
    "    :param ellipse_color: цвет эллипса в RGB\n",
    "    :param background_color: цвет фона в RGB\n",
    "    \"\"\"\n",
    "    # Создаем изображение с фоном\n",
    "    img = np.ones((m, n, 3), dtype=np.uint8) * np.array(background_color, dtype=np.uint8)\n",
    "\n",
    "    # Генерация эллипса\n",
    "    y, x = np.ogrid[:m, :n]\n",
    "    mask = ((x - n // 2) ** 2) / (a ** 2) + ((y - m // 2) ** 2) / (b ** 2) <= 1\n",
    "    img[mask] = np.array(ellipse_color, dtype=np.uint8)\n",
    "\n",
    "    return img\n",
    "\n",
    "# Тесты\n",
    "\n",
    "# Прямоугольник\n",
    "rectangle_img = draw_rectangle(100, 50, 400, 400, (255, 0, 0), (0, 0, 0))  # красный прямоугольник на черном фоне\n",
    "plt.imshow(rectangle_img)\n",
    "plt.axis('off')  # Скрыть оси\n",
    "plt.show()\n",
    "\n",
    "# Эллипс\n",
    "ellipse_img = draw_ellipse(100, 50, 400, 400, (0, 255, 0), (0, 0, 0))  # зеленый эллипс на черном фоне\n",
    "plt.imshow(ellipse_img)\n",
    "plt.axis('off')  # Скрыть оси\n",
    "plt.show()\n"
   ]
  },
  {
   "cell_type": "markdown",
   "metadata": {
    "id": "S82c38oz244H"
   },
   "source": [
    "<h1>Задача 7. Дан некий временной ряд. Для данного ряда нужно найти его: математическое ожидание, дисперсию, СКО, найти все локальные максимумы и минимумы (локальный максимум - это точка, которая больше своих соседних точек, а локальный минимум - это точка, которая меньше своих соседей), а также вычислить для данного ряда другой ряд, получаемый методом скользящего среднего с размером окна $p$.\n",
    "<h1>Примечание: метод скользящего среднего подразумевает нахождение среднего из подмножетсва ряда размером $p$"
   ]
  },
  {
   "cell_type": "code",
   "execution_count": 4,
   "metadata": {
    "id": "Zb9mIVge5MMt"
   },
   "outputs": [
    {
     "name": "stdout",
     "output_type": "stream",
     "text": [
      "Математическое ожидание: 2.8333333333333335\n",
      "Дисперсия: 2.138888888888889\n",
      "СКО: 1.4624940645653537\n",
      "Локальные максимумы: [2, 6, 9]\n",
      "Локальные минимумы: [4, 7]\n",
      "Скользящее среднее: [2.         2.33333333 2.         2.         2.66666667 3.\n",
      " 3.66666667 4.33333333 4.66666667 3.66666667]\n"
     ]
    }
   ],
   "source": [
    "import numpy as np\n",
    "\n",
    "def time_series_analysis(series, window_size):\n",
    "    \"\"\"\n",
    "    Функция выполняет анализ временного ряда:\n",
    "    - Математическое ожидание\n",
    "    - Дисперсия\n",
    "    - СКО\n",
    "    - Локальные максимумы и минимумы\n",
    "    - Скользящее среднее\n",
    "    \n",
    "    :param series: Временной ряд (список или массив)\n",
    "    :param window_size: Размер окна для скользящего среднего\n",
    "    :return: Результаты анализа\n",
    "    \"\"\"\n",
    "    \n",
    "    # 1. Математическое ожидание\n",
    "    mean = np.mean(series)\n",
    "    \n",
    "    # 2. Дисперсия\n",
    "    variance = np.var(series)\n",
    "    \n",
    "    # 3. СКО (среднеквадратическое отклонение)\n",
    "    std_dev = np.std(series)\n",
    "    \n",
    "    # 4. Локальные максимумы и минимумы\n",
    "    local_maxima = []\n",
    "    local_minima = []\n",
    "    \n",
    "    for i in range(1, len(series) - 1):\n",
    "        if series[i] > series[i-1] and series[i] > series[i+1]:  # локальный максимум\n",
    "            local_maxima.append(i)\n",
    "        elif series[i] < series[i-1] and series[i] < series[i+1]:  # локальный минимум\n",
    "            local_minima.append(i)\n",
    "    \n",
    "    # 5. Скользящее среднее\n",
    "    rolling_mean = np.convolve(series, np.ones(window_size)/window_size, mode='valid')\n",
    "    \n",
    "    return {\n",
    "        \"mean\": mean,\n",
    "        \"variance\": variance,\n",
    "        \"std_dev\": std_dev,\n",
    "        \"local_maxima\": local_maxima,\n",
    "        \"local_minima\": local_minima,\n",
    "        \"rolling_mean\": rolling_mean\n",
    "    }\n",
    "\n",
    "# Пример использования:\n",
    "time_series = [1, 2, 3, 2, 1, 3, 4, 2, 5, 6, 3, 2]\n",
    "window_size = 3\n",
    "\n",
    "results = time_series_analysis(time_series, window_size)\n",
    "\n",
    "print(\"Математическое ожидание:\", results[\"mean\"])\n",
    "print(\"Дисперсия:\", results[\"variance\"])\n",
    "print(\"СКО:\", results[\"std_dev\"])\n",
    "print(\"Локальные максимумы:\", results[\"local_maxima\"])\n",
    "print(\"Локальные минимумы:\", results[\"local_minima\"])\n",
    "print(\"Скользящее среднее:\", results[\"rolling_mean\"])\n"
   ]
  },
  {
   "cell_type": "markdown",
   "metadata": {
    "id": "jPkylmOX5O9n"
   },
   "source": [
    "<h1> Задача 8. Дан некоторый вектор с целочисленными метками классов, напишите функцию, которая выполняет one-hot-encoding для данного вектора\n",
    "<h1> One-hot-encoding - представление, в котором на месте метки некоторого класса стоит 1, в остальных позициях стоит 0. Например для вектора [0, 2, 3, 0] one-hot-encoding выглядит как: [[1, 0, 0, 0], [0, 0, 1, 0], [0, 0, 0, 1], [1, 0, 0, 0]]"
   ]
  },
  {
   "cell_type": "code",
   "execution_count": 6,
   "metadata": {
    "id": "Y-jlnZvw56lD"
   },
   "outputs": [
    {
     "name": "stdout",
     "output_type": "stream",
     "text": [
      "One-hot encoding:\n",
      "[[1 0 0 0]\n",
      " [0 0 1 0]\n",
      " [0 0 0 1]\n",
      " [1 0 0 0]]\n"
     ]
    }
   ],
   "source": [
    "import numpy as np\n",
    "\n",
    "def one_hot_encoding(labels):\n",
    "    \"\"\"\n",
    "    Функция выполняет one-hot encoding для вектора целочисленных меток классов.\n",
    "    \n",
    "    :param labels: Список или массив целочисленных меток классов.\n",
    "    :return: Массив one-hot encoding.\n",
    "    \"\"\"\n",
    "    # Находим максимальное значение метки, чтобы определить количество классов\n",
    "    num_classes = max(labels) + 1\n",
    "    \n",
    "    # Создаем пустой массив для one-hot encoding\n",
    "    one_hot = np.zeros((len(labels), num_classes), dtype=int)\n",
    "    \n",
    "    # Заполняем массив\n",
    "    for i, label in enumerate(labels):\n",
    "        one_hot[i, label] = 1\n",
    "    \n",
    "    return one_hot\n",
    "\n",
    "# Тесты\n",
    "labels = [0, 2, 3, 0]\n",
    "encoded = one_hot_encoding(labels)\n",
    "print(\"One-hot encoding:\")\n",
    "print(encoded)\n",
    "\n",
    "# Ожидаемый вывод:\n",
    "# One-hot encoding:\n",
    "# [[1 0 0 0]\n",
    "#  [0 0 1 0]\n",
    "#  [0 0 0 1]\n",
    "#  [1 0 0 0]]\n"
   ]
  },
  {
   "cell_type": "code",
   "execution_count": null,
   "metadata": {},
   "outputs": [],
   "source": []
  }
 ],
 "metadata": {
  "colab": {
   "provenance": []
  },
  "kernelspec": {
   "display_name": "Python 3 (ipykernel)",
   "language": "python",
   "name": "python3"
  },
  "language_info": {
   "codemirror_mode": {
    "name": "ipython",
    "version": 3
   },
   "file_extension": ".py",
   "mimetype": "text/x-python",
   "name": "python",
   "nbconvert_exporter": "python",
   "pygments_lexer": "ipython3",
   "version": "3.13.2"
  }
 },
 "nbformat": 4,
 "nbformat_minor": 4
}
