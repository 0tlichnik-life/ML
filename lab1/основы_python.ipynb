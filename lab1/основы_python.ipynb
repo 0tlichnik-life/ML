{
 "cells": [
  {
   "cell_type": "markdown",
   "metadata": {
    "id": "M-DGa20PaHnu"
   },
   "source": [
    "#Задача 1\n",
    "Написать функцию на вход которой подается строка, состоящая из латинских букв.\n",
    "Функция должна вернуть количество гласных букв (a, e, i, o, u) в этой строке. Написать тесты для кода"
   ]
  },
  {
   "cell_type": "code",
   "execution_count": 9,
   "metadata": {
    "id": "XvX8X_JJ6PCb"
   },
   "outputs": [
    {
     "name": "stdout",
     "output_type": "stream",
     "text": [
      "4\n",
      "Все тесты успешно пройдены!\n"
     ]
    }
   ],
   "source": [
    "def count_vowels(s):\n",
    "    \"\"\"\n",
    "    Функция подсчитывает количество гласных букв (a, e, i, o, u) в строке.\n",
    "    \"\"\"\n",
    "    vowels = \"aeiouAEIOU\"\n",
    "    return sum(1 for char in s if char.lower() in vowels)  # Приводим символ к нижнему регистру\n",
    "\n",
    "# Проверим еще раз\n",
    "print(count_vowels(\"Python Programming\"))  # Должно быть 4, а не 5\n",
    "\n",
    "# Тесты\n",
    "assert count_vowels(\"hello\") == 2\n",
    "assert count_vowels(\"world\") == 1\n",
    "assert count_vowels(\"AEIOU\") == 5\n",
    "assert count_vowels(\"xyz\") == 0\n",
    "assert count_vowels(\"\") == 0\n",
    "assert count_vowels(\"Python Programming\") == 4  # Исправленное значение\n",
    "\n",
    "print(\"Все тесты успешно пройдены!\")"
   ]
  },
  {
   "cell_type": "markdown",
   "metadata": {
    "id": "t2ClV_Y0bbr6"
   },
   "source": [
    "# Задача 2\n",
    "Написать функцию на вход, которой подается строка. Функция должна вернуть true, если\n",
    "каждый символ в строке встречается только 1 раз, иначе должна вернуть false. Написать тесты для кода"
   ]
  },
  {
   "cell_type": "code",
   "execution_count": 10,
   "metadata": {
    "id": "FppbECao6VIz"
   },
   "outputs": [
    {
     "name": "stdout",
     "output_type": "stream",
     "text": [
      "Все тесты успешно пройдены!\n"
     ]
    }
   ],
   "source": [
    "def is_unique(s):\n",
    "    \"\"\"\n",
    "    Функция проверяет, содержит ли строка только уникальные символы.\n",
    "    \"\"\"\n",
    "    return len(set(s)) == len(s)\n",
    "\n",
    "# Тесты\n",
    "assert is_unique(\"abcdef\") == True\n",
    "assert is_unique(\"hello\") == False\n",
    "assert is_unique(\"\") == True  # Пустая строка — все символы уникальны\n",
    "assert is_unique(\"Python\") == True\n",
    "assert is_unique(\"112233\") == False\n",
    "assert is_unique(\"a\") == True  # Один символ всегда уникален\n",
    "\n",
    "print(\"Все тесты успешно пройдены!\")"
   ]
  },
  {
   "cell_type": "markdown",
   "metadata": {
    "id": "udRiIK1cdt6E"
   },
   "source": [
    "# Задача 3\n",
    "Написать функцию, которая принимает положительное число и возвращает количество\n",
    "бит равных 1 в этом числе. Написать тесты для кода"
   ]
  },
  {
   "cell_type": "code",
   "execution_count": null,
   "metadata": {
    "id": "6tkfDJRz6dp_"
   },
   "outputs": [],
   "source": [
    "def count_bits(n):\n",
    "    \"\"\"\n",
    "    Функция принимает положительное число n и возвращает количество бит, равных 1, в его двоичном представлении.\n",
    "    \"\"\"\n",
    "    return bin(n).count(\"1\")\n",
    "\n",
    "# Тесты\n",
    "assert count_bits(0) == 0\n",
    "assert count_bits(1) == 1\n",
    "assert count_bits(5) == 2  # 5 = 0b101\n",
    "assert count_bits(15) == 4  # 15 = 0b1111\n",
    "assert count_bits(1023) == 10  # 1023 = 0b1111111111\n",
    "\n",
    "print(\"Все тесты успешно пройдены!\")\n"
   ]
  },
  {
   "cell_type": "markdown",
   "metadata": {
    "id": "26dDUz-Ae17N"
   },
   "source": [
    "# Задача 4\n",
    "Написать функцию, которая принимает положительное число. Функция должна вернуть то,\n",
    "сколько раз необходимо перемножать цифры числа или результат перемножения, чтобы\n",
    "получилось число состоящее из одной цифры.\n",
    "Например, для входного числа:\n",
    "· 39 функция должна вернуть 3, так как 3*9=27 => 2*7=14 => 1*4=4\n",
    "· 4 функция должна вернуть 0, так как число уже состоит из одной цифры\n",
    "· 999 функция должна вернуть 4, так как 9*9*9=729 => 7*2*9=126 => 1*2*6=12 =>\n",
    "1*2=2. Написать тесты для кода"
   ]
  },
  {
   "cell_type": "code",
   "execution_count": 17,
   "metadata": {
    "id": "BH1A_Mgi6i4G"
   },
   "outputs": [
    {
     "name": "stdout",
     "output_type": "stream",
     "text": [
      "Все тесты успешно пройдены!\n"
     ]
    }
   ],
   "source": [
    "def persistence(n):\n",
    "    \"\"\"\n",
    "    Функция принимает положительное число n и считает, сколько раз нужно перемножать его цифры,\n",
    "    пока не останется только одна цифра.\n",
    "    \"\"\"\n",
    "    count = 0\n",
    "    while n >= 10:  # Пока число не однозначное\n",
    "        product = 1\n",
    "        for digit in str(n):\n",
    "            product *= int(digit)  # Перемножаем все цифры числа\n",
    "        n = product\n",
    "        count += 1\n",
    "    return count\n",
    "\n",
    "# Тесты\n",
    "assert persistence(39) == 3  # 39 -> 27 -> 14 -> 4\n",
    "assert persistence(4) == 0  # Число уже однозначное\n",
    "assert persistence(999) == 4  # 999 -> 729 -> 126 -> 12 -> 2\n",
    "assert persistence(25) == 2  # 25 -> 10 -> 0\n",
    "assert persistence(10) == 1  # 10 -> 0\n",
    "\n",
    "print(\"Все тесты успешно пройдены!\")"
   ]
  },
  {
   "cell_type": "markdown",
   "metadata": {
    "id": "0nS-kIa8g8vd"
   },
   "source": [
    "# Задача 5\n",
    "Написать функцию, которая принимает два целочисленных вектора одинаковой длины и\n",
    "возвращает среднеквадратическое отклонение двух векторов. Написать тесты для кода"
   ]
  },
  {
   "cell_type": "code",
   "execution_count": 3,
   "metadata": {
    "id": "8iphx4LM6xbx"
   },
   "outputs": [
    {
     "name": "stdout",
     "output_type": "stream",
     "text": [
      "Все тесты успешно пройдены!\n"
     ]
    }
   ],
   "source": [
    "import numpy as np\n",
    "\n",
    "def mse(pred, true):\n",
    "    \"\"\"\n",
    "    Функция принимает два вектора одинаковой длины и возвращает среднеквадратическое отклонение.\n",
    "    \"\"\"\n",
    "    pred, true = np.array(pred), np.array(true)\n",
    "    return np.mean((pred - true) ** 2)\n",
    "\n",
    "# Тесты\n",
    "assert mse([1, 2, 3], [1, 2, 3]) == 0\n",
    "assert mse([1, 2, 3], [2, 3, 4]) == 1\n",
    "assert mse([10, 20, 30], [5, 25, 35]) == 25\n",
    "\n",
    "print(\"Все тесты успешно пройдены!\")"
   ]
  },
  {
   "cell_type": "markdown",
   "metadata": {
    "id": "vpIPKL439zkw"
   },
   "source": [
    "# Задача 6\n",
    "Написать функцию, принимающая целое положительное число. Функция должна вернуть\n",
    "строку вида “(n1**p1)(n2**p2)…(nk**pk)” представляющая разложение числа на простые\n",
    "множители (если pi == 1, то выводить только ni).\n",
    "Например, для числа 86240 функция должна вернуть “(2**5)(5)(7**2)(11)”. Написать тесты для кода"
   ]
  },
  {
   "cell_type": "code",
   "execution_count": 19,
   "metadata": {
    "id": "pFebmcZk94Jw"
   },
   "outputs": [
    {
     "name": "stdout",
     "output_type": "stream",
     "text": [
      "Все тесты успешно пройдены!\n"
     ]
    }
   ],
   "source": [
    "def prime_factorization(n):\n",
    "    \"\"\"\n",
    "    Функция принимает положительное число n и возвращает строку с разложением на простые множители.\n",
    "    \"\"\"\n",
    "    i = 2\n",
    "    factors = {}\n",
    "    \n",
    "    while i * i <= n:\n",
    "        while n % i == 0:\n",
    "            factors[i] = factors.get(i, 0) + 1\n",
    "            n //= i\n",
    "        i += 1\n",
    "    \n",
    "    if n > 1:\n",
    "        factors[n] = factors.get(n, 0) + 1\n",
    "\n",
    "    return \"\".join(f\"({k}\" + (f\"**{v}\" if v > 1 else \"\") + \")\" for k, v in factors.items())\n",
    "\n",
    "# Тесты\n",
    "assert prime_factorization(86240) == \"(2**5)(5)(7**2)(11)\"\n",
    "assert prime_factorization(12) == \"(2**2)(3)\"\n",
    "assert prime_factorization(7) == \"(7)\"\n",
    "assert prime_factorization(100) == \"(2**2)(5**2)\"\n",
    "\n",
    "print(\"Все тесты успешно пройдены!\")"
   ]
  },
  {
   "cell_type": "markdown",
   "metadata": {
    "id": "ps2s0BudX7A2"
   },
   "source": [
    "# Задача 7\n",
    "Написать функцию, принимающая целое число n, задающее количество кубиков. Функция\n",
    "должна определить, можно ли из данного кол-ва кубиков построить пирамиду, то есть\n",
    "можно ли представить число n как 1^2+2^2+3^2+…+k^2. Если можно, то функция должна\n",
    "вернуть k, иначе строку “It is impossible”. Написать тесты для кода"
   ]
  },
  {
   "cell_type": "code",
   "execution_count": 22,
   "metadata": {
    "id": "3YPjEXxhX_YT"
   },
   "outputs": [
    {
     "name": "stdout",
     "output_type": "stream",
     "text": [
      "Все тесты успешно пройдены!\n"
     ]
    }
   ],
   "source": [
    "def is_balanced(n):\n",
    "    \"\"\"\n",
    "    Функция принимает положительное число и проверяет, является ли оно сбалансированным.\n",
    "    \"\"\"\n",
    "    s = str(n)\n",
    "    length = len(s)\n",
    "\n",
    "    if length == 1:\n",
    "        return True\n",
    "\n",
    "    mid = length // 2\n",
    "    if length % 2 == 0:\n",
    "        left, right = s[:mid], s[mid:]  # Правильные срезы\n",
    "    else:\n",
    "        left, right = s[:mid], s[mid+1:]\n",
    "\n",
    "    return sum(map(int, left)) == sum(map(int, right))\n",
    "\n",
    "# Тесты\n",
    "assert is_balanced(123321) == True  # 1+2+3 == 3+2+1\n",
    "assert is_balanced(12321) == True   # 1+2 == 2+1 (средняя цифра 3 игнорируется)\n",
    "assert is_balanced(123456) == False # 1+2+3 != 4+5+6\n",
    "assert is_balanced(1) == True       # Одно число всегда сбалансированное\n",
    "assert is_balanced(112112) == True  # 1+1+2 == 1+1+2\n",
    "assert is_balanced(1234567) == False\n",
    "\n",
    "print(\"Все тесты успешно пройдены!\")"
   ]
  },
  {
   "cell_type": "markdown",
   "metadata": {
    "id": "KeKgmIdAQMEJ"
   },
   "source": [
    "# Задача 8\n",
    "Функция принимает на вход положительное число и определяет является ли оно сбалансированным, т.е. сумма цифр до средних равна сумме цифр после. Средними в случае нечетного числа цифр считать одну цифру, в случае четного - две средних. Написать тесты для кода"
   ]
  },
  {
   "cell_type": "code",
   "execution_count": 21,
   "metadata": {
    "id": "gMAAqtqlQrZt"
   },
   "outputs": [
    {
     "name": "stdout",
     "output_type": "stream",
     "text": [
      "Все тесты успешно пройдены!\n"
     ]
    }
   ],
   "source": [
    "def is_balanced(n):\n",
    "    \"\"\"\n",
    "    Функция принимает положительное число и проверяет, является ли оно сбалансированным.\n",
    "    \"\"\"\n",
    "    s = str(n)\n",
    "    length = len(s)\n",
    "\n",
    "    if length == 1:\n",
    "        return True\n",
    "\n",
    "    mid = length // 2\n",
    "    if length % 2 == 0:\n",
    "        left, right = s[:mid-1], s[mid+1:]\n",
    "    else:\n",
    "        left, right = s[:mid], s[mid+1:]\n",
    "\n",
    "    return sum(map(int, left)) == sum(map(int, right))\n",
    "\n",
    "# Тесты\n",
    "assert is_balanced(123321) == True\n",
    "assert is_balanced(12321) == True\n",
    "assert is_balanced(123456) == False\n",
    "assert is_balanced(1) == True\n",
    "\n",
    "print(\"Все тесты успешно пройдены!\")"
   ]
  },
  {
   "cell_type": "code",
   "execution_count": null,
   "metadata": {},
   "outputs": [],
   "source": []
  }
 ],
 "metadata": {
  "colab": {
   "provenance": []
  },
  "kernelspec": {
   "display_name": "Python 3 (ipykernel)",
   "language": "python",
   "name": "python3"
  },
  "language_info": {
   "codemirror_mode": {
    "name": "ipython",
    "version": 3
   },
   "file_extension": ".py",
   "mimetype": "text/x-python",
   "name": "python",
   "nbconvert_exporter": "python",
   "pygments_lexer": "ipython3",
   "version": "3.13.2"
  }
 },
 "nbformat": 4,
 "nbformat_minor": 4
}
